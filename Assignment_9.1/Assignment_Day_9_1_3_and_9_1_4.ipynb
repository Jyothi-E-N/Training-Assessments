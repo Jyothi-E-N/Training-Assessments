{
 "cells": [
  {
   "cell_type": "markdown",
   "id": "4358a928",
   "metadata": {},
   "source": [
    "##### 3. Create a book object with following fields \n",
    "        * id \n",
    "        * title \n",
    "        * author \n",
    "        * price  \n",
    "        * rating "
   ]
  },
  {
   "cell_type": "markdown",
   "id": "7ec66cb0",
   "metadata": {},
   "source": [
    "#### 4. Write Find Function to \n",
    "    * Find a  book by id \n",
    "    * Find all books by an author \n",
    "    * Find all books in rating range \n",
    "    * Find all books in price range "
   ]
  },
  {
   "cell_type": "code",
   "execution_count": 39,
   "id": "4e92bfd3",
   "metadata": {},
   "outputs": [],
   "source": [
    "class Book:\n",
    "    \n",
    "    _books = []\n",
    "    \n",
    "    def __init__(self, _id, title, author, price, rating):\n",
    "        self._id = _id\n",
    "        self._title = title\n",
    "        self._author = author\n",
    "        self._price = price\n",
    "        self._rating = rating\n",
    "        self._books.append(self)\n",
    "        \n",
    "    def find_book_by_id(self, book_id):\n",
    "        for book in self._books:\n",
    "            if(book._id == book_id):\n",
    "                return book\n",
    "            \n",
    "        return None\n",
    "    \n",
    "    def find_all_books_by_author(self, author):\n",
    "        books_by_author = []\n",
    "        \n",
    "        for book in self._books:\n",
    "            if(book._author == author):\n",
    "                books_by_author.append(book)\n",
    "                \n",
    "        return books_by_author\n",
    "    \n",
    "    def find_books_by_rating(self, min_rating, max_rating):\n",
    "        books = []\n",
    "        \n",
    "        for book in self._books:\n",
    "            if(min_rating <= book._rating and max_rating >= book._rating):\n",
    "                books.append(book)\n",
    "                \n",
    "        return books\n",
    "    \n",
    "    def find_books_in_price_range(self, min_price, max_price):\n",
    "        books = []\n",
    "        \n",
    "        for book in self._books:\n",
    "            if(min_price <= book._price and book._price <= max_price):\n",
    "                books.append(book)\n",
    "                \n",
    "        return books\n",
    "    \n",
    "    def info(self):\n",
    "        return f'Book Id: {self._id}, \\tBook Name: {self._title},\\tAuthor: {self._author},\\tPrice: {self._price},\\tRating: {self._rating}\\n'\n",
    "        "
   ]
  },
  {
   "cell_type": "code",
   "execution_count": 40,
   "id": "fd139efd",
   "metadata": {},
   "outputs": [],
   "source": [
    "def create_books():\n",
    "    book1 = Book(1, 'data science','John', 100, 3.4)\n",
    "    book2 = Book(2, 'machine learning','Steve', 200, 3)\n",
    "    book3 = Book(3, 'deep learning','Steve', 500, 1)\n",
    "    book4 = Book(4, 'iot','Mark', 1500, 2)\n",
    "    book5 = Book(5, 'artificial intelligence','Julie', 400, 5)\n",
    "    \n",
    "    book_by_id = book1.find_book_by_id(3)\n",
    "    books_by_author = book1.find_all_books_by_author('Steve')\n",
    "    books_by_rating = book1.find_books_by_rating(1,3)\n",
    "    books_by_price = book1.find_books_in_price_range(300, 1000)\n",
    "    \n",
    "    print(f\"finding book by the id {3}:\")\n",
    "    print(book_by_id.info())\n",
    "    print()\n",
    "    \n",
    "    print(f\"finding all the books by author Steve: \")\n",
    "    for book in books_by_author:\n",
    "        print(book.info())\n",
    "        print()\n",
    "    print()\n",
    "    \n",
    "    print(f\"finding all the books from rating range between 1 and 3: \")\n",
    "    for book in books_by_rating:\n",
    "        print(book.info())\n",
    "        print()\n",
    "    print()\n",
    "    \n",
    "    print(f\"finding all the books from price range between 300 and 1000: \")\n",
    "    for book in books_by_price:\n",
    "        print(book.info())\n",
    "        print()\n",
    "    print()\n",
    "    "
   ]
  },
  {
   "cell_type": "code",
   "execution_count": 41,
   "id": "50f3881b",
   "metadata": {},
   "outputs": [
    {
     "name": "stdout",
     "output_type": "stream",
     "text": [
      "finding book by the id 3:\n",
      "Book Id: 3, \tBook Name: deep learning,\tAuthor: Steve,\tPrice: 500,\tRating: 1\n",
      "\n",
      "\n",
      "finding all the books by author Steve: \n",
      "Book Id: 2, \tBook Name: machine learning,\tAuthor: Steve,\tPrice: 200,\tRating: 3\n",
      "\n",
      "\n",
      "Book Id: 3, \tBook Name: deep learning,\tAuthor: Steve,\tPrice: 500,\tRating: 1\n",
      "\n",
      "\n",
      "\n",
      "finding all the books from rating range between 1 and 3: \n",
      "Book Id: 2, \tBook Name: machine learning,\tAuthor: Steve,\tPrice: 200,\tRating: 3\n",
      "\n",
      "\n",
      "Book Id: 3, \tBook Name: deep learning,\tAuthor: Steve,\tPrice: 500,\tRating: 1\n",
      "\n",
      "\n",
      "Book Id: 4, \tBook Name: iot,\tAuthor: Mark,\tPrice: 1500,\tRating: 2\n",
      "\n",
      "\n",
      "\n",
      "finding all the books from price range between 300 and 1000: \n",
      "Book Id: 3, \tBook Name: deep learning,\tAuthor: Steve,\tPrice: 500,\tRating: 1\n",
      "\n",
      "\n",
      "Book Id: 5, \tBook Name: artificial intelligence,\tAuthor: Julie,\tPrice: 400,\tRating: 5\n",
      "\n",
      "\n",
      "\n"
     ]
    }
   ],
   "source": [
    "create_books()"
   ]
  },
  {
   "cell_type": "code",
   "execution_count": null,
   "id": "8a58d246",
   "metadata": {},
   "outputs": [],
   "source": []
  },
  {
   "cell_type": "code",
   "execution_count": null,
   "id": "0cf40776",
   "metadata": {},
   "outputs": [],
   "source": []
  }
 ],
 "metadata": {
  "kernelspec": {
   "display_name": "Python 3 (ipykernel)",
   "language": "python",
   "name": "python3"
  },
  "language_info": {
   "codemirror_mode": {
    "name": "ipython",
    "version": 3
   },
   "file_extension": ".py",
   "mimetype": "text/x-python",
   "name": "python",
   "nbconvert_exporter": "python",
   "pygments_lexer": "ipython3",
   "version": "3.11.4"
  }
 },
 "nbformat": 4,
 "nbformat_minor": 5
}
