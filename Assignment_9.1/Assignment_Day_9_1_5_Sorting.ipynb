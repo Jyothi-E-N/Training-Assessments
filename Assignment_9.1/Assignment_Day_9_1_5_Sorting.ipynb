{
 "cells": [
  {
   "cell_type": "code",
   "execution_count": 22,
   "id": "6d6981bc",
   "metadata": {},
   "outputs": [],
   "source": [
    "def merge_sort(arr):\n",
    "    \n",
    "    if(len(arr)>1):\n",
    "        \n",
    "        mid = len(arr)//2\n",
    "        \n",
    "        # divide array into 2 halves at mid and call mergesort recursively\n",
    "        L = arr[:mid]\n",
    "        R = arr[mid:]\n",
    "        \n",
    "        # sort first half and then second\n",
    "        merge_sort(L)\n",
    "        merge_sort(R)\n",
    "        \n",
    "        # once both arrays are sorted, merge them and add them accordingly to temp array\n",
    "        i = j = k = 0\n",
    "        while(i<len(L) and j<len(R)):\n",
    "            if(L[i] <= R[j]):\n",
    "                arr[k] = L[i]\n",
    "                i += 1\n",
    "            else:\n",
    "                arr[k] = R[j]\n",
    "                j += 1\n",
    "            k += 1\n",
    "        \n",
    "        # check other elemnts in the array which are left out bcz of i and k\n",
    "        while(i<len(L)):\n",
    "            arr[k] = L[i]\n",
    "            i += 1\n",
    "            k += 1\n",
    "            \n",
    "        while(j<len(R)):\n",
    "            arr[k] = R[j]\n",
    "            j += 1\n",
    "            k += 1\n",
    "\n",
    "def print_list(arr):\n",
    "    for ele in arr:\n",
    "        print(ele, end= ' ')\n",
    "        \n",
    "    print()\n",
    "\n",
    "        "
   ]
  },
  {
   "cell_type": "code",
   "execution_count": 23,
   "id": "05ea9a3a",
   "metadata": {},
   "outputs": [
    {
     "name": "stdout",
     "output_type": "stream",
     "text": [
      "1 3 6 8 12 13 21 34 55 886 \n"
     ]
    }
   ],
   "source": [
    "unsorted_arr = [1,3,6,13,55,21,8,34,886,12]\n",
    "merge_sort(unsorted_arr)\n",
    "\n",
    "print_list(unsorted_arr)"
   ]
  },
  {
   "cell_type": "code",
   "execution_count": null,
   "id": "e4536935",
   "metadata": {},
   "outputs": [],
   "source": []
  }
 ],
 "metadata": {
  "kernelspec": {
   "display_name": "Python 3 (ipykernel)",
   "language": "python",
   "name": "python3"
  },
  "language_info": {
   "codemirror_mode": {
    "name": "ipython",
    "version": 3
   },
   "file_extension": ".py",
   "mimetype": "text/x-python",
   "name": "python",
   "nbconvert_exporter": "python",
   "pygments_lexer": "ipython3",
   "version": "3.11.4"
  }
 },
 "nbformat": 4,
 "nbformat_minor": 5
}
